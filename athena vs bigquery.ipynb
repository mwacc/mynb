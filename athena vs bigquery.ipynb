{
 "cells": [
  {
   "cell_type": "code",
   "execution_count": 30,
   "metadata": {},
   "outputs": [],
   "source": [
    "import sys\n",
    "import random\n",
    "import datetime\n",
    "\n",
    "\n",
    "TNX_NUM =  7130400000\n",
    "ACCOUNT_NUM =  43350000\n",
    "RATES_NUM = 2200000"
   ]
  },
  {
   "cell_type": "code",
   "execution_count": 31,
   "metadata": {},
   "outputs": [],
   "source": [
    "def get_random(top_limit):\n",
    "    \"return random from [1;top_limit]\"\n",
    "    return random.randint(1,top_limit)\n",
    "\n",
    "def generate_tnx(id):\n",
    "    \"\"\" uuid source_id recipient_id amount_source_currency amount_recipient_currency ex_rate_id fraud_risk was_allowed ts \"\"\"\n",
    "    uuid = \"transaction-uuid-is-%d\" % id\n",
    "    source_id = get_random(ACCOUNT_NUM)\n",
    "    recipient_id = get_random(ACCOUNT_NUM)\n",
    "    amount_source_currency = get_random(5000)\n",
    "    amount_recipient_currency = get_random(6000)\n",
    "    ex_rate_id = get_random(RATES_NUM)\n",
    "    fraud_risk_tmp = get_random(100) + 1\n",
    "    fraud_risk = get_random(int(fraud_risk_tmp/2)) if fraud_risk_tmp < 100 else 100\n",
    "    if fraud_risk == 100:\n",
    "        was_allowed = False\n",
    "    else:\n",
    "        was_allowed = True\n",
    "    ts = datetime.datetime.now().isoformat()\n",
    "    return \"\\t\".join(map(str,(uuid, source_id, recipient_id, amount_source_currency, amount_recipient_currency, ex_rate_id, fraud_risk_tmp, fraud_risk, was_allowed, ts)))\n",
    "\n",
    "def generate_account(id):\n",
    "    \"\"\" id name type external_id currency esatblished_at country county city postal_code  comment last_updated_date \"\"\"\n",
    "    name = \" %d some random name -%d-\" % (id, get_random(id))\n",
    "    type = get_random(10)\n",
    "    external_id = \"=> %d <=\" % id\n",
    "    currency = get_random(100)\n",
    "    esatblished_at = datetime.datetime.now().isoformat()\n",
    "    country = \" %d country %d\" % (get_random(200), get_random(200))\n",
    "    county = \"%d region %d\" % (get_random(200), get_random(200))\n",
    "    city = \"%d city %d \" % (get_random(200), get_random(200))\n",
    "    postal_code = \"%d ZZ %d\" % (get_random(99), get_random(99))\n",
    "    comment = \" la %d la %d da %d\" % (get_random(999), get_random(999), get_random(999))\n",
    "    last_updated_date = datetime.datetime.now().isoformat()\n",
    "    return \"\\t\".join(map(str,(id,name,type,external_id, currency,esatblished_at, country, county, city, postal_code, comment, last_updated_date)))\n",
    "\n",
    "def generate_rate(id):\n",
    "    \"\"\" id date country from to rate  \"\"\"\n",
    "    dt = datetime.datetime.now().isoformat()\n",
    "    country = \" %d country %d\" % (get_random(200), get_random(200))\n",
    "    from_c = \"cur name %d\" % get_random(180)\n",
    "    to_c = \"cur name %d\" % get_random(180)\n",
    "    rate = get_random(180) * 0.97\n",
    "    return \"\\t\".join(map(str,(id,dt,country, from_c, to_c, rate)))"
   ]
  },
  {
   "cell_type": "code",
   "execution_count": 32,
   "metadata": {},
   "outputs": [
    {
     "ename": "KeyboardInterrupt",
     "evalue": "",
     "output_type": "error",
     "traceback": [
      "\u001b[1;31m---------------------------------------------------------------------------\u001b[0m",
      "\u001b[1;31mKeyboardInterrupt\u001b[0m                         Traceback (most recent call last)",
      "\u001b[1;32m<ipython-input-32-21daddc844ed>\u001b[0m in \u001b[0;36m<module>\u001b[1;34m()\u001b[0m\n\u001b[0;32m      1\u001b[0m \u001b[1;32mwith\u001b[0m  \u001b[0mopen\u001b[0m\u001b[1;33m(\u001b[0m\u001b[1;34m\"tnx.tsv\"\u001b[0m\u001b[1;33m,\u001b[0m \u001b[1;34m\"a\"\u001b[0m\u001b[1;33m)\u001b[0m \u001b[1;32mas\u001b[0m \u001b[0mtnx\u001b[0m\u001b[1;33m:\u001b[0m\u001b[1;33m\u001b[0m\u001b[0m\n\u001b[0;32m      2\u001b[0m     \u001b[1;32mfor\u001b[0m \u001b[0mi\u001b[0m \u001b[1;32min\u001b[0m \u001b[0mrange\u001b[0m\u001b[1;33m(\u001b[0m\u001b[0mTNX_NUM\u001b[0m\u001b[1;33m)\u001b[0m\u001b[1;33m:\u001b[0m\u001b[1;33m\u001b[0m\u001b[0m\n\u001b[1;32m----> 3\u001b[1;33m         \u001b[0mtnx\u001b[0m\u001b[1;33m.\u001b[0m\u001b[0mwrite\u001b[0m\u001b[1;33m(\u001b[0m\u001b[0mgenerate_tnx\u001b[0m\u001b[1;33m(\u001b[0m\u001b[0mi\u001b[0m\u001b[1;33m+\u001b[0m\u001b[1;36m1\u001b[0m\u001b[1;33m)\u001b[0m\u001b[1;33m)\u001b[0m\u001b[1;33m\u001b[0m\u001b[0m\n\u001b[0m\u001b[0;32m      4\u001b[0m         \u001b[0mtnx\u001b[0m\u001b[1;33m.\u001b[0m\u001b[0mwrite\u001b[0m\u001b[1;33m(\u001b[0m\u001b[1;34m\"\\n\"\u001b[0m\u001b[1;33m)\u001b[0m\u001b[1;33m\u001b[0m\u001b[0m\n\u001b[0;32m      5\u001b[0m         \u001b[1;32mif\u001b[0m \u001b[0mi\u001b[0m\u001b[1;33m%\u001b[0m\u001b[1;36m100\u001b[0m \u001b[1;33m==\u001b[0m \u001b[1;36m0\u001b[0m\u001b[1;33m:\u001b[0m\u001b[1;33m\u001b[0m\u001b[0m\n",
      "\u001b[1;31mKeyboardInterrupt\u001b[0m: "
     ]
    }
   ],
   "source": [
    "with  open(\"tnx.tsv\", \"a\") as tnx:\n",
    "    for i in range(TNX_NUM):\n",
    "        tnx.write(generate_tnx(i+1))\n",
    "        tnx.write(\"\\n\")\n",
    "        if i%100 == 0:\n",
    "            tnx.flush()\n",
    "\n",
    "with  open(\"acc.tsv\", \"a\") as acc:\n",
    "    for i in range(ACCOUNT_NUM):\n",
    "        acc.write(generate_account(i+1))\n",
    "        acc.write(\"\\n\")\n",
    "        if i%100 == 0:\n",
    "            acc.flush()\n",
    "\n",
    "with  open(\"rate.tsv\", \"a\") as rt:\n",
    "    for i in range(RATES_NUM):\n",
    "        rt.write(generate_rate(i+1))\n",
    "        rt.write(\"\\n\")\n",
    "        if i%100 == 0:\n",
    "            rt.flush()"
   ]
  },
  {
   "cell_type": "code",
   "execution_count": null,
   "metadata": {},
   "outputs": [],
   "source": []
  }
 ],
 "metadata": {
  "kernelspec": {
   "display_name": "Python 3",
   "language": "python",
   "name": "python3"
  },
  "language_info": {
   "codemirror_mode": {
    "name": "ipython",
    "version": 3
   },
   "file_extension": ".py",
   "mimetype": "text/x-python",
   "name": "python",
   "nbconvert_exporter": "python",
   "pygments_lexer": "ipython3",
   "version": "3.6.6"
  }
 },
 "nbformat": 4,
 "nbformat_minor": 2
}
